{
 "cells": [
  {
   "cell_type": "markdown",
   "metadata": {},
   "source": [
    "184547\n",
    "Simeon\n",
    "3 BS ME"
   ]
  },
  {
   "cell_type": "markdown",
   "metadata": {},
   "source": []
  },
  {
   "cell_type": "code",
   "execution_count": 4,
   "metadata": {},
   "outputs": [
    {
     "name": "stdout",
     "output_type": "stream",
     "text": [
      "Enter the amount in US Dollars: 4\n",
      "4 US Dollar(s) = 200 Philippine Pesos\n"
     ]
    }
   ],
   "source": [
    "usd = int(input(\"Enter the amount in US Dollars: \"))\n",
    "php = usd*50\n",
    "print(str(usd) + \" US Dollar(s) = \" + str(php) + \" Philippine Pesos\")"
   ]
  },
  {
   "cell_type": "code",
   "execution_count": 5,
   "metadata": {},
   "outputs": [
    {
     "name": "stdout",
     "output_type": "stream",
     "text": [
      "55\n",
      "3\n",
      "58\n",
      "52\n",
      "165\n",
      "18\n",
      "1\n"
     ]
    }
   ],
   "source": [
    "a = int(input())\n",
    "b = int(input())\n",
    "add = a+b\n",
    "diff = a-b\n",
    "prod = a*b\n",
    "quot = a//b\n",
    "rem = a%b\n",
    "print(add)\n",
    "print(diff)\n",
    "print(prod)\n",
    "print(quot)\n",
    "print(rem)"
   ]
  },
  {
   "cell_type": "code",
   "execution_count": 1,
   "metadata": {},
   "outputs": [
    {
     "name": "stdout",
     "output_type": "stream",
     "text": [
      "Enter kg: 65\n",
      "Enter cm: 180\n",
      "BMI: 20.061728395061728\n"
     ]
    }
   ],
   "source": [
    "kg = int(input(\"Enter kg: \"))\n",
    "cm = int(input(\"Enter cm: \"))\n",
    "m = cm/100\n",
    "bmi = kg/(m**2)\n",
    "print(\"BMI: \" + str(bmi))"
   ]
  },
  {
   "cell_type": "code",
   "execution_count": null,
   "metadata": {},
   "outputs": [],
   "source": []
  }
 ],
 "metadata": {
  "kernelspec": {
   "display_name": "Python 3",
   "language": "python",
   "name": "python3"
  },
  "language_info": {
   "codemirror_mode": {
    "name": "ipython",
    "version": 3
   },
   "file_extension": ".py",
   "mimetype": "text/x-python",
   "name": "python",
   "nbconvert_exporter": "python",
   "pygments_lexer": "ipython3",
   "version": "3.8.5"
  }
 },
 "nbformat": 4,
 "nbformat_minor": 4
}
